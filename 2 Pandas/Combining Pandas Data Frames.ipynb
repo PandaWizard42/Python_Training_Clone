{
 "cells": [
  {
   "cell_type": "markdown",
   "id": "086f35d6",
   "metadata": {
    "toc": true
   },
   "source": [
    "<h1>Table of Contents<span class=\"tocSkip\"></span></h1>\n",
    "<div class=\"toc\"><ul class=\"toc-item\"><li><span><a href=\"#Import-Sample-Data\" data-toc-modified-id=\"Import-Sample-Data-1\"><span class=\"toc-item-num\">1&nbsp;&nbsp;</span>Import Sample Data</a></span><ul class=\"toc-item\"><li><span><a href=\"#Housing-Price\" data-toc-modified-id=\"Housing-Price-1.1\"><span class=\"toc-item-num\">1.1&nbsp;&nbsp;</span>Housing Price</a></span></li><li><span><a href=\"#Tax-Data\" data-toc-modified-id=\"Tax-Data-1.2\"><span class=\"toc-item-num\">1.2&nbsp;&nbsp;</span>Tax Data</a></span></li></ul></li><li><span><a href=\"#join-Data-Frame-Method\" data-toc-modified-id=\"join-Data-Frame-Method-2\"><span class=\"toc-item-num\">2&nbsp;&nbsp;</span><code>join</code> Data Frame Method</a></span></li><li><span><a href=\"#merge-Data-Frame-Method\" data-toc-modified-id=\"merge-Data-Frame-Method-3\"><span class=\"toc-item-num\">3&nbsp;&nbsp;</span><code>merge</code> Data Frame Method</a></span></li><li><span><a href=\"#concat-Pandas-Function\" data-toc-modified-id=\"concat-Pandas-Function-4\"><span class=\"toc-item-num\">4&nbsp;&nbsp;</span><code>concat</code> Pandas Function</a></span></li></ul></div>"
   ]
  },
  {
   "cell_type": "code",
   "execution_count": 71,
   "id": "c357d3b8",
   "metadata": {
    "ExecuteTime": {
     "end_time": "2023-05-12T01:30:01.043441Z",
     "start_time": "2023-05-12T01:30:01.023286Z"
    }
   },
   "outputs": [],
   "source": [
    "import pandas as pd"
   ]
  },
  {
   "cell_type": "markdown",
   "id": "e2ce1e60",
   "metadata": {},
   "source": [
    "## Import Sample Data\n",
    "\n",
    "### Housing Price\n",
    "The Housing Price data by zip from Zillow was downloaded from https://www.zillow.com/research/data/ .  \n"
   ]
  },
  {
   "cell_type": "code",
   "execution_count": 72,
   "id": "94bfda1c",
   "metadata": {
    "ExecuteTime": {
     "end_time": "2023-05-12T01:30:05.575272Z",
     "start_time": "2023-05-12T01:30:01.087250Z"
    }
   },
   "outputs": [
    {
     "data": {
      "text/html": [
       "<div>\n",
       "<style scoped>\n",
       "    .dataframe tbody tr th:only-of-type {\n",
       "        vertical-align: middle;\n",
       "    }\n",
       "\n",
       "    .dataframe tbody tr th {\n",
       "        vertical-align: top;\n",
       "    }\n",
       "\n",
       "    .dataframe thead th {\n",
       "        text-align: right;\n",
       "    }\n",
       "</style>\n",
       "<table border=\"1\" class=\"dataframe\">\n",
       "  <thead>\n",
       "    <tr style=\"text-align: right;\">\n",
       "      <th></th>\n",
       "      <th>RegionID</th>\n",
       "      <th>SizeRank</th>\n",
       "      <th>RegionName</th>\n",
       "      <th>RegionType</th>\n",
       "      <th>StateName</th>\n",
       "      <th>State</th>\n",
       "      <th>City</th>\n",
       "      <th>Metro</th>\n",
       "      <th>CountyName</th>\n",
       "      <th>2000-01-31</th>\n",
       "      <th>...</th>\n",
       "      <th>2022-06-30</th>\n",
       "      <th>2022-07-31</th>\n",
       "      <th>2022-08-31</th>\n",
       "      <th>2022-09-30</th>\n",
       "      <th>2022-10-31</th>\n",
       "      <th>2022-11-30</th>\n",
       "      <th>2022-12-31</th>\n",
       "      <th>2023-01-31</th>\n",
       "      <th>2023-02-28</th>\n",
       "      <th>2023-03-31</th>\n",
       "    </tr>\n",
       "  </thead>\n",
       "  <tbody>\n",
       "    <tr>\n",
       "      <th>27010</th>\n",
       "      <td>78282</td>\n",
       "      <td>39809</td>\n",
       "      <td>46799</td>\n",
       "      <td>zip</td>\n",
       "      <td>IN</td>\n",
       "      <td>IN</td>\n",
       "      <td>Zanesville</td>\n",
       "      <td>Bluffton, IN</td>\n",
       "      <td>Wells County</td>\n",
       "      <td>NaN</td>\n",
       "      <td>...</td>\n",
       "      <td>172931.113553</td>\n",
       "      <td>173726.818013</td>\n",
       "      <td>173951.262842</td>\n",
       "      <td>173561.093030</td>\n",
       "      <td>173267.350240</td>\n",
       "      <td>173316.329830</td>\n",
       "      <td>173324.855024</td>\n",
       "      <td>173343.968822</td>\n",
       "      <td>173739.502719</td>\n",
       "      <td>174765.029798</td>\n",
       "    </tr>\n",
       "    <tr>\n",
       "      <th>27011</th>\n",
       "      <td>80861</td>\n",
       "      <td>39809</td>\n",
       "      <td>52163</td>\n",
       "      <td>zip</td>\n",
       "      <td>IA</td>\n",
       "      <td>IA</td>\n",
       "      <td>Protivin</td>\n",
       "      <td>NaN</td>\n",
       "      <td>Howard County</td>\n",
       "      <td>NaN</td>\n",
       "      <td>...</td>\n",
       "      <td>100986.105306</td>\n",
       "      <td>102843.677816</td>\n",
       "      <td>104486.379416</td>\n",
       "      <td>105810.880094</td>\n",
       "      <td>106454.239900</td>\n",
       "      <td>106897.177835</td>\n",
       "      <td>107196.786820</td>\n",
       "      <td>107037.013712</td>\n",
       "      <td>106366.668071</td>\n",
       "      <td>105680.453415</td>\n",
       "    </tr>\n",
       "    <tr>\n",
       "      <th>27012</th>\n",
       "      <td>69074</td>\n",
       "      <td>39809</td>\n",
       "      <td>26576</td>\n",
       "      <td>zip</td>\n",
       "      <td>WV</td>\n",
       "      <td>WV</td>\n",
       "      <td>Farmington</td>\n",
       "      <td>Fairmont, WV</td>\n",
       "      <td>Marion County</td>\n",
       "      <td>NaN</td>\n",
       "      <td>...</td>\n",
       "      <td>98430.653830</td>\n",
       "      <td>99565.281599</td>\n",
       "      <td>100539.187287</td>\n",
       "      <td>100590.832913</td>\n",
       "      <td>100489.571763</td>\n",
       "      <td>100123.791299</td>\n",
       "      <td>100196.541945</td>\n",
       "      <td>100556.335407</td>\n",
       "      <td>101320.684556</td>\n",
       "      <td>102093.120933</td>\n",
       "    </tr>\n",
       "    <tr>\n",
       "      <th>27013</th>\n",
       "      <td>64515</td>\n",
       "      <td>39809</td>\n",
       "      <td>16245</td>\n",
       "      <td>zip</td>\n",
       "      <td>PA</td>\n",
       "      <td>PA</td>\n",
       "      <td>Oak Ridge</td>\n",
       "      <td>Pittsburgh, PA</td>\n",
       "      <td>Armstrong County</td>\n",
       "      <td>NaN</td>\n",
       "      <td>...</td>\n",
       "      <td>79001.623917</td>\n",
       "      <td>79797.115905</td>\n",
       "      <td>80327.757426</td>\n",
       "      <td>80096.167777</td>\n",
       "      <td>79256.847170</td>\n",
       "      <td>78066.159714</td>\n",
       "      <td>77466.901397</td>\n",
       "      <td>77711.217346</td>\n",
       "      <td>77581.056657</td>\n",
       "      <td>76642.895385</td>\n",
       "    </tr>\n",
       "    <tr>\n",
       "      <th>27014</th>\n",
       "      <td>80190</td>\n",
       "      <td>39809</td>\n",
       "      <td>50160</td>\n",
       "      <td>zip</td>\n",
       "      <td>IA</td>\n",
       "      <td>IA</td>\n",
       "      <td>Martensdale</td>\n",
       "      <td>Des Moines-West Des Moines, IA</td>\n",
       "      <td>Warren County</td>\n",
       "      <td>NaN</td>\n",
       "      <td>...</td>\n",
       "      <td>182921.063195</td>\n",
       "      <td>184139.412398</td>\n",
       "      <td>184688.403061</td>\n",
       "      <td>184729.848799</td>\n",
       "      <td>185179.263239</td>\n",
       "      <td>185869.441655</td>\n",
       "      <td>186269.605436</td>\n",
       "      <td>186267.600047</td>\n",
       "      <td>186353.463783</td>\n",
       "      <td>187071.766317</td>\n",
       "    </tr>\n",
       "  </tbody>\n",
       "</table>\n",
       "<p>5 rows × 288 columns</p>\n",
       "</div>"
      ],
      "text/plain": [
       "       RegionID  SizeRank  RegionName RegionType StateName State         City   \n",
       "27010     78282     39809       46799        zip        IN    IN   Zanesville  \\\n",
       "27011     80861     39809       52163        zip        IA    IA     Protivin   \n",
       "27012     69074     39809       26576        zip        WV    WV   Farmington   \n",
       "27013     64515     39809       16245        zip        PA    PA    Oak Ridge   \n",
       "27014     80190     39809       50160        zip        IA    IA  Martensdale   \n",
       "\n",
       "                                Metro        CountyName  2000-01-31  ...   \n",
       "27010                    Bluffton, IN      Wells County         NaN  ...  \\\n",
       "27011                             NaN     Howard County         NaN  ...   \n",
       "27012                    Fairmont, WV     Marion County         NaN  ...   \n",
       "27013                  Pittsburgh, PA  Armstrong County         NaN  ...   \n",
       "27014  Des Moines-West Des Moines, IA     Warren County         NaN  ...   \n",
       "\n",
       "          2022-06-30     2022-07-31     2022-08-31     2022-09-30   \n",
       "27010  172931.113553  173726.818013  173951.262842  173561.093030  \\\n",
       "27011  100986.105306  102843.677816  104486.379416  105810.880094   \n",
       "27012   98430.653830   99565.281599  100539.187287  100590.832913   \n",
       "27013   79001.623917   79797.115905   80327.757426   80096.167777   \n",
       "27014  182921.063195  184139.412398  184688.403061  184729.848799   \n",
       "\n",
       "          2022-10-31     2022-11-30     2022-12-31     2023-01-31   \n",
       "27010  173267.350240  173316.329830  173324.855024  173343.968822  \\\n",
       "27011  106454.239900  106897.177835  107196.786820  107037.013712   \n",
       "27012  100489.571763  100123.791299  100196.541945  100556.335407   \n",
       "27013   79256.847170   78066.159714   77466.901397   77711.217346   \n",
       "27014  185179.263239  185869.441655  186269.605436  186267.600047   \n",
       "\n",
       "          2023-02-28     2023-03-31  \n",
       "27010  173739.502719  174765.029798  \n",
       "27011  106366.668071  105680.453415  \n",
       "27012  101320.684556  102093.120933  \n",
       "27013   77581.056657   76642.895385  \n",
       "27014  186353.463783  187071.766317  \n",
       "\n",
       "[5 rows x 288 columns]"
      ]
     },
     "execution_count": 72,
     "metadata": {},
     "output_type": "execute_result"
    }
   ],
   "source": [
    "# house_df = pd.read_csv('../data/Zip_zhvi_uc_sfrcondo_tier_0.33_0.67_sm_sa_month.csv')\n",
    "house_df = pd.read_csv('https://raw.githubusercontent.com/emsanqui/Python_Training/master/data/Zip_zhvi_uc_sfrcondo_tier_0.33_0.67_sm_sa_month.csv')\n",
    "house_df.tail()"
   ]
  },
  {
   "cell_type": "markdown",
   "id": "bba999b4",
   "metadata": {},
   "source": [
    "Since the housing data has 288 columns, we will select a few columns to work with."
   ]
  },
  {
   "cell_type": "code",
   "execution_count": 73,
   "id": "f2b88b22",
   "metadata": {
    "ExecuteTime": {
     "end_time": "2023-05-12T01:30:05.591037Z",
     "start_time": "2023-05-12T01:30:05.580151Z"
    },
    "scrolled": true
   },
   "outputs": [
    {
     "data": {
      "text/plain": [
       "Index(['RegionID', 'SizeRank', 'RegionName', 'RegionType', 'StateName',\n",
       "       'State', 'City', 'Metro', 'CountyName', '2000-01-31',\n",
       "       ...\n",
       "       '2022-06-30', '2022-07-31', '2022-08-31', '2022-09-30', '2022-10-31',\n",
       "       '2022-11-30', '2022-12-31', '2023-01-31', '2023-02-28', '2023-03-31'],\n",
       "      dtype='object', length=288)"
      ]
     },
     "execution_count": 73,
     "metadata": {},
     "output_type": "execute_result"
    }
   ],
   "source": [
    "house_df.columns"
   ]
  },
  {
   "cell_type": "markdown",
   "id": "f27d87d3",
   "metadata": {},
   "source": [
    "Below we renamed the `RegionID` columns to `ZIPCODE` and select the `ZIPCODE`, `2023-01-31`, `2023-02-28`, and `2023-03-31` columns.  Then, we use the `groupby()` and `mean()` functions to calculate the means grouped by `ZIPCODE`.\n",
    "\n",
    "Note that the `groupby()` function will indexed the results by the columns passed to the function.  In this case `ZIPCODE`."
   ]
  },
  {
   "cell_type": "code",
   "execution_count": 74,
   "id": "c48fb2b1",
   "metadata": {
    "ExecuteTime": {
     "end_time": "2023-05-12T01:30:05.698826Z",
     "start_time": "2023-05-12T01:30:05.600664Z"
    }
   },
   "outputs": [
    {
     "data": {
      "text/html": [
       "<div>\n",
       "<style scoped>\n",
       "    .dataframe tbody tr th:only-of-type {\n",
       "        vertical-align: middle;\n",
       "    }\n",
       "\n",
       "    .dataframe tbody tr th {\n",
       "        vertical-align: top;\n",
       "    }\n",
       "\n",
       "    .dataframe thead th {\n",
       "        text-align: right;\n",
       "    }\n",
       "</style>\n",
       "<table border=\"1\" class=\"dataframe\">\n",
       "  <thead>\n",
       "    <tr style=\"text-align: right;\">\n",
       "      <th></th>\n",
       "      <th>2023-01-31</th>\n",
       "      <th>2023-02-28</th>\n",
       "      <th>2023-03-31</th>\n",
       "    </tr>\n",
       "    <tr>\n",
       "      <th>ZIPCODE</th>\n",
       "      <th></th>\n",
       "      <th></th>\n",
       "      <th></th>\n",
       "    </tr>\n",
       "  </thead>\n",
       "  <tbody>\n",
       "    <tr>\n",
       "      <th>58196</th>\n",
       "      <td>289183.650560</td>\n",
       "      <td>290142.126012</td>\n",
       "      <td>291579.076221</td>\n",
       "    </tr>\n",
       "    <tr>\n",
       "      <th>58197</th>\n",
       "      <td>452812.730506</td>\n",
       "      <td>453702.600673</td>\n",
       "      <td>456075.368414</td>\n",
       "    </tr>\n",
       "    <tr>\n",
       "      <th>58200</th>\n",
       "      <td>349605.853667</td>\n",
       "      <td>349729.762203</td>\n",
       "      <td>350587.034195</td>\n",
       "    </tr>\n",
       "    <tr>\n",
       "      <th>58201</th>\n",
       "      <td>402072.180437</td>\n",
       "      <td>401473.914859</td>\n",
       "      <td>401888.086022</td>\n",
       "    </tr>\n",
       "    <tr>\n",
       "      <th>58202</th>\n",
       "      <td>318573.721730</td>\n",
       "      <td>317472.656484</td>\n",
       "      <td>317132.928828</td>\n",
       "    </tr>\n",
       "    <tr>\n",
       "      <th>...</th>\n",
       "      <td>...</td>\n",
       "      <td>...</td>\n",
       "      <td>...</td>\n",
       "    </tr>\n",
       "    <tr>\n",
       "      <th>777366</th>\n",
       "      <td>155659.981192</td>\n",
       "      <td>157189.842481</td>\n",
       "      <td>159339.001500</td>\n",
       "    </tr>\n",
       "    <tr>\n",
       "      <th>787970</th>\n",
       "      <td>525168.720819</td>\n",
       "      <td>524857.684731</td>\n",
       "      <td>527158.578055</td>\n",
       "    </tr>\n",
       "    <tr>\n",
       "      <th>787971</th>\n",
       "      <td>576787.298849</td>\n",
       "      <td>572369.045592</td>\n",
       "      <td>570487.717820</td>\n",
       "    </tr>\n",
       "    <tr>\n",
       "      <th>787972</th>\n",
       "      <td>418133.934425</td>\n",
       "      <td>418081.008836</td>\n",
       "      <td>419930.686376</td>\n",
       "    </tr>\n",
       "    <tr>\n",
       "      <th>808739</th>\n",
       "      <td>467690.950571</td>\n",
       "      <td>470487.848802</td>\n",
       "      <td>476631.332425</td>\n",
       "    </tr>\n",
       "  </tbody>\n",
       "</table>\n",
       "<p>27015 rows × 3 columns</p>\n",
       "</div>"
      ],
      "text/plain": [
       "            2023-01-31     2023-02-28     2023-03-31\n",
       "ZIPCODE                                             \n",
       "58196    289183.650560  290142.126012  291579.076221\n",
       "58197    452812.730506  453702.600673  456075.368414\n",
       "58200    349605.853667  349729.762203  350587.034195\n",
       "58201    402072.180437  401473.914859  401888.086022\n",
       "58202    318573.721730  317472.656484  317132.928828\n",
       "...                ...            ...            ...\n",
       "777366   155659.981192  157189.842481  159339.001500\n",
       "787970   525168.720819  524857.684731  527158.578055\n",
       "787971   576787.298849  572369.045592  570487.717820\n",
       "787972   418133.934425  418081.008836  419930.686376\n",
       "808739   467690.950571  470487.848802  476631.332425\n",
       "\n",
       "[27015 rows x 3 columns]"
      ]
     },
     "execution_count": 74,
     "metadata": {},
     "output_type": "execute_result"
    }
   ],
   "source": [
    "house_df = (house_df\n",
    "            .rename(columns={'RegionID':'ZIPCODE'})\n",
    "            [['ZIPCODE','2023-01-31','2023-02-28','2023-03-31']]\n",
    "            .groupby('ZIPCODE')\n",
    "            .mean()\n",
    "           )\n",
    "house_df"
   ]
  },
  {
   "cell_type": "markdown",
   "id": "235c20e4",
   "metadata": {},
   "source": [
    "### Tax Data \n",
    "The tax data by zip code from the IRS was downloaded from https://www.irs.gov/statistics/soi-tax-stats-individual-income-tax-statistics-2020-zip-code-data-soi\n",
    "\n",
    "Below we import the data and assign the `ZIPCODE` column as the index."
   ]
  },
  {
   "cell_type": "code",
   "execution_count": null,
   "id": "4f4d0f24",
   "metadata": {
    "ExecuteTime": {
     "start_time": "2023-05-12T01:30:01.391Z"
    }
   },
   "outputs": [],
   "source": [
    "# tax_df = pd.read_csv('../data/20zpallnoagi.csv')\n",
    "tax_df = pd.read_csv('https://raw.githubusercontent.com/emsanqui/Python_Training/master/data/20zpallnoagi.csv')\n",
    "tax_df.tail()"
   ]
  },
  {
   "cell_type": "markdown",
   "id": "d108568c",
   "metadata": {},
   "source": [
    "Since the tax data has 164 columns, we will select a few columns to work with."
   ]
  },
  {
   "cell_type": "code",
   "execution_count": null,
   "id": "1db38be0",
   "metadata": {
    "ExecuteTime": {
     "start_time": "2023-05-12T01:30:01.458Z"
    }
   },
   "outputs": [],
   "source": [
    "tax_df.columns"
   ]
  },
  {
   "cell_type": "markdown",
   "id": "c0d8c81b",
   "metadata": {},
   "source": [
    "Below we select the `ZIPCODE`, `A11902`, `N12000`, and `A12000` columns.  Then, we use the `groupby()` and `mean()` functions to calculate the means grouped by `ZIPCODE`."
   ]
  },
  {
   "cell_type": "code",
   "execution_count": null,
   "id": "cadf6ce5",
   "metadata": {
    "ExecuteTime": {
     "start_time": "2023-05-12T01:30:01.592Z"
    }
   },
   "outputs": [],
   "source": [
    "tax_df = (tax_df[['ZIPCODE','A11902','N12000','A12000']]\n",
    "          .groupby('ZIPCODE')\n",
    "          .mean()\n",
    "         )\n",
    "tax_df"
   ]
  },
  {
   "cell_type": "markdown",
   "id": "39e45391",
   "metadata": {},
   "source": [
    "## `join` Data Frame Method\n",
    "\n",
    "Below we `inner` join the housing and tax data frames on `ZIPCODE`.  Other types of join types include `left`, `right`, `outer`, `inner`, `cross`, the default is `left`.  This works like a sql query join operator.\n",
    "\n",
    "More information is available from the documentation https://pandas.pydata.org/docs/reference/api/pandas.DataFrame.join.html"
   ]
  },
  {
   "cell_type": "code",
   "execution_count": null,
   "id": "67cb49a7",
   "metadata": {
    "ExecuteTime": {
     "start_time": "2023-05-12T01:30:01.668Z"
    }
   },
   "outputs": [],
   "source": [
    "house_df.join(tax_df, on='ZIPCODE', how='inner').tail()"
   ]
  },
  {
   "cell_type": "markdown",
   "id": "4af7f923",
   "metadata": {},
   "source": [
    "## `merge` Data Frame Method\n",
    "\n",
    "The `merge` operator is more flexible than `join`.  However, `merge` requiring more detailed inputs.\n",
    "\n",
    "Below we use the `merge` method to perform the same operation as above with `join`.\n",
    "\n",
    "More information is available from the documentation https://pandas.pydata.org/docs/reference/api/pandas.DataFrame.merge.html"
   ]
  },
  {
   "cell_type": "code",
   "execution_count": null,
   "id": "b6fb2cb6",
   "metadata": {
    "ExecuteTime": {
     "start_time": "2023-05-12T01:30:01.737Z"
    }
   },
   "outputs": [],
   "source": [
    "house_df.reset_index().merge(right=tax_df.reset_index(), how='inner', on='ZIPCODE').tail().set_index('ZIPCODE')"
   ]
  },
  {
   "cell_type": "markdown",
   "id": "b0c6a15f",
   "metadata": {},
   "source": [
    "## `concat` Pandas Function\n",
    "\n",
    "More information is available from the documentation https://pandas.pydata.org/docs/reference/api/pandas.concat.html\n",
    "\n",
    "The `concat` function can concatenate two data frames as below."
   ]
  },
  {
   "cell_type": "code",
   "execution_count": null,
   "id": "87c228dc",
   "metadata": {
    "ExecuteTime": {
     "start_time": "2023-05-12T01:30:01.798Z"
    }
   },
   "outputs": [],
   "source": [
    "df1 = pd.DataFrame([['a', 1], ['b', 2]], columns=['letter', 'number'])\n",
    "print('This is the `df1` data frame')\n",
    "display(df1)\n",
    "\n",
    "df2 = pd.DataFrame([['c', 3], ['d', 4]], columns=['letter', 'number'])\n",
    "print('This is the `df2` data frame')\n",
    "display(df2)\n",
    "\n",
    "print('Below we concatenate the `df2` data frame to `df1` data frame')\n",
    "pd.concat([df1, df2])"
   ]
  },
  {
   "cell_type": "markdown",
   "id": "28ff4826",
   "metadata": {},
   "source": [
    "By default the `concat()` function will concatenate rows (`axis=0`).  However, we can also concatenate columns by setting `axis=1`."
   ]
  },
  {
   "cell_type": "code",
   "execution_count": null,
   "id": "88bf0489",
   "metadata": {
    "ExecuteTime": {
     "start_time": "2023-05-12T01:30:01.879Z"
    }
   },
   "outputs": [],
   "source": [
    "pd.concat([df1, df2], axis=1)"
   ]
  },
  {
   "cell_type": "markdown",
   "id": "36f52e29",
   "metadata": {},
   "source": [
    "We can also concatenate a series to a data frame as below."
   ]
  },
  {
   "cell_type": "code",
   "execution_count": null,
   "id": "24388423",
   "metadata": {
    "ExecuteTime": {
     "start_time": "2023-05-12T01:30:01.948Z"
    }
   },
   "outputs": [],
   "source": [
    "df3 = pd.DataFrame({'a': 1, 'b': 2}, index=[0])\n",
    "print('This is the `df3` data frame')\n",
    "display(df7)\n",
    "\n",
    "new_row = pd.Series({'a': 3, 'b': 4})\n",
    "print('This is the `new_row` series')\n",
    "display(new_row)\n",
    "\n",
    "print('Below we concatenated `new_row` to `df3`')\n",
    "pd.concat([df3, new_row.to_frame().T], ignore_index=True)"
   ]
  },
  {
   "cell_type": "code",
   "execution_count": null,
   "id": "3861256f",
   "metadata": {},
   "outputs": [],
   "source": []
  }
 ],
 "metadata": {
  "hide_input": false,
  "kernelspec": {
   "display_name": "Python 3 (ipykernel)",
   "language": "python",
   "name": "python3"
  },
  "language_info": {
   "codemirror_mode": {
    "name": "ipython",
    "version": 3
   },
   "file_extension": ".py",
   "mimetype": "text/x-python",
   "name": "python",
   "nbconvert_exporter": "python",
   "pygments_lexer": "ipython3",
   "version": "3.10.11"
  },
  "toc": {
   "base_numbering": 1,
   "nav_menu": {},
   "number_sections": true,
   "sideBar": true,
   "skip_h1_title": true,
   "title_cell": "Table of Contents",
   "title_sidebar": "Contents",
   "toc_cell": true,
   "toc_position": {
    "height": "calc(100% - 180px)",
    "left": "10px",
    "top": "150px",
    "width": "426.667px"
   },
   "toc_section_display": true,
   "toc_window_display": true
  },
  "varInspector": {
   "cols": {
    "lenName": 16,
    "lenType": 16,
    "lenVar": 40
   },
   "kernels_config": {
    "python": {
     "delete_cmd_postfix": "",
     "delete_cmd_prefix": "del ",
     "library": "var_list.py",
     "varRefreshCmd": "print(var_dic_list())"
    },
    "r": {
     "delete_cmd_postfix": ") ",
     "delete_cmd_prefix": "rm(",
     "library": "var_list.r",
     "varRefreshCmd": "cat(var_dic_list()) "
    }
   },
   "types_to_exclude": [
    "module",
    "function",
    "builtin_function_or_method",
    "instance",
    "_Feature"
   ],
   "window_display": false
  }
 },
 "nbformat": 4,
 "nbformat_minor": 5
}
