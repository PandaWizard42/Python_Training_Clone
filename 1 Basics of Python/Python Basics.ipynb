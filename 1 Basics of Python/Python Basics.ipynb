{
 "cells": [
  {
   "cell_type": "markdown",
   "id": "cc3596f9",
   "metadata": {},
   "source": [
    "## Hello Python\n"
   ]
  },
  {
   "cell_type": "code",
   "execution_count": 1,
   "id": "2cc91d0d",
   "metadata": {
    "ExecuteTime": {
     "end_time": "2023-05-13T18:18:36.979596Z",
     "start_time": "2023-05-13T18:18:36.960630Z"
    }
   },
   "outputs": [],
   "source": [
    "# this is a comment in python"
   ]
  },
  {
   "cell_type": "code",
   "execution_count": 2,
   "id": "5c535171",
   "metadata": {
    "ExecuteTime": {
     "end_time": "2023-05-13T18:18:36.995705Z",
     "start_time": "2023-05-13T18:18:36.983597Z"
    }
   },
   "outputs": [
    {
     "name": "stdout",
     "output_type": "stream",
     "text": [
      "Hello Python\n"
     ]
    }
   ],
   "source": [
    "print(\"Hello Python\")"
   ]
  },
  {
   "cell_type": "code",
   "execution_count": 3,
   "id": "5108e395",
   "metadata": {
    "ExecuteTime": {
     "end_time": "2023-05-13T18:18:37.013355Z",
     "start_time": "2023-05-13T18:18:37.000706Z"
    }
   },
   "outputs": [
    {
     "name": "stdout",
     "output_type": "stream",
     "text": [
      "Hello Python\n"
     ]
    }
   ],
   "source": [
    "print(\"Hello\", \"Python\")"
   ]
  },
  {
   "cell_type": "code",
   "execution_count": 4,
   "id": "d80e653b",
   "metadata": {
    "ExecuteTime": {
     "end_time": "2023-05-13T18:18:37.029121Z",
     "start_time": "2023-05-13T18:18:37.017400Z"
    },
    "scrolled": true
   },
   "outputs": [
    {
     "name": "stdout",
     "output_type": "stream",
     "text": [
      "Hello Python\n"
     ]
    }
   ],
   "source": [
    "print(\"Hello\" + \" \" + \"Python\")"
   ]
  },
  {
   "cell_type": "markdown",
   "id": "c91a875c",
   "metadata": {},
   "source": [
    "## Variables"
   ]
  },
  {
   "cell_type": "code",
   "execution_count": 5,
   "id": "7d5afb86",
   "metadata": {
    "ExecuteTime": {
     "end_time": "2023-05-13T18:18:37.061244Z",
     "start_time": "2023-05-13T18:18:37.042848Z"
    }
   },
   "outputs": [
    {
     "name": "stdout",
     "output_type": "stream",
     "text": [
      "Hello Python\n"
     ]
    }
   ],
   "source": [
    "hp = \"Hello\"\n",
    "print(f'{hp} Python')"
   ]
  },
  {
   "cell_type": "code",
   "execution_count": 6,
   "id": "43e48422",
   "metadata": {
    "ExecuteTime": {
     "end_time": "2023-05-13T18:18:37.077120Z",
     "start_time": "2023-05-13T18:18:37.067050Z"
    }
   },
   "outputs": [
    {
     "name": "stdout",
     "output_type": "stream",
     "text": [
      "Hello 7\n"
     ]
    }
   ],
   "source": [
    "A = 7\n",
    "print(f'{hp} {A}')"
   ]
  },
  {
   "cell_type": "code",
   "execution_count": 7,
   "id": "62a84010",
   "metadata": {
    "ExecuteTime": {
     "end_time": "2023-05-13T18:18:37.092279Z",
     "start_time": "2023-05-13T18:18:37.083496Z"
    }
   },
   "outputs": [
    {
     "name": "stdout",
     "output_type": "stream",
     "text": [
      "2500000.0\n"
     ]
    }
   ],
   "source": [
    "B = 2.5e6\n",
    "print(f'{B}')"
   ]
  },
  {
   "cell_type": "markdown",
   "id": "0d200990",
   "metadata": {},
   "source": [
    "## Operators"
   ]
  },
  {
   "cell_type": "code",
   "execution_count": 8,
   "id": "559a662b",
   "metadata": {
    "ExecuteTime": {
     "end_time": "2023-05-13T18:18:37.122552Z",
     "start_time": "2023-05-13T18:18:37.105987Z"
    }
   },
   "outputs": [
    {
     "data": {
      "text/plain": [
       "10"
      ]
     },
     "execution_count": 8,
     "metadata": {},
     "output_type": "execute_result"
    }
   ],
   "source": [
    "7 + 3"
   ]
  },
  {
   "cell_type": "code",
   "execution_count": 9,
   "id": "4e1fe554",
   "metadata": {
    "ExecuteTime": {
     "end_time": "2023-05-13T18:18:37.138525Z",
     "start_time": "2023-05-13T18:18:37.129057Z"
    }
   },
   "outputs": [
    {
     "data": {
      "text/plain": [
       "4"
      ]
     },
     "execution_count": 9,
     "metadata": {},
     "output_type": "execute_result"
    }
   ],
   "source": [
    "7 - 3"
   ]
  },
  {
   "cell_type": "code",
   "execution_count": 10,
   "id": "8e6ee7fb",
   "metadata": {
    "ExecuteTime": {
     "end_time": "2023-05-13T18:18:37.154357Z",
     "start_time": "2023-05-13T18:18:37.142568Z"
    }
   },
   "outputs": [
    {
     "data": {
      "text/plain": [
       "21"
      ]
     },
     "execution_count": 10,
     "metadata": {},
     "output_type": "execute_result"
    }
   ],
   "source": [
    "7 * 3"
   ]
  },
  {
   "cell_type": "code",
   "execution_count": 11,
   "id": "7bcca114",
   "metadata": {
    "ExecuteTime": {
     "end_time": "2023-05-13T18:18:37.171377Z",
     "start_time": "2023-05-13T18:18:37.161696Z"
    }
   },
   "outputs": [
    {
     "data": {
      "text/plain": [
       "2.3333333333333335"
      ]
     },
     "execution_count": 11,
     "metadata": {},
     "output_type": "execute_result"
    }
   ],
   "source": [
    "7 / 3"
   ]
  },
  {
   "cell_type": "code",
   "execution_count": 12,
   "id": "fea1cfc3",
   "metadata": {
    "ExecuteTime": {
     "end_time": "2023-05-13T18:18:37.210534Z",
     "start_time": "2023-05-13T18:18:37.177089Z"
    }
   },
   "outputs": [
    {
     "data": {
      "text/plain": [
       "2"
      ]
     },
     "execution_count": 12,
     "metadata": {},
     "output_type": "execute_result"
    }
   ],
   "source": [
    "7 // 3 # will return the integer part of a division"
   ]
  },
  {
   "cell_type": "code",
   "execution_count": 13,
   "id": "ceebd697",
   "metadata": {
    "ExecuteTime": {
     "end_time": "2023-05-13T18:18:37.224958Z",
     "start_time": "2023-05-13T18:18:37.216680Z"
    }
   },
   "outputs": [
    {
     "data": {
      "text/plain": [
       "1"
      ]
     },
     "execution_count": 13,
     "metadata": {},
     "output_type": "execute_result"
    }
   ],
   "source": [
    "7 % 3"
   ]
  },
  {
   "cell_type": "code",
   "execution_count": 14,
   "id": "74b4c8b9",
   "metadata": {
    "ExecuteTime": {
     "end_time": "2023-05-13T18:18:37.261976Z",
     "start_time": "2023-05-13T18:18:37.231225Z"
    }
   },
   "outputs": [
    {
     "data": {
      "text/plain": [
       "343"
      ]
     },
     "execution_count": 14,
     "metadata": {},
     "output_type": "execute_result"
    }
   ],
   "source": [
    "7 ** 3"
   ]
  },
  {
   "cell_type": "markdown",
   "id": "3945b54b",
   "metadata": {},
   "source": [
    "## Data Structures"
   ]
  },
  {
   "cell_type": "markdown",
   "id": "f74351e8",
   "metadata": {},
   "source": []
  },
  {
   "cell_type": "markdown",
   "id": "f59aa841",
   "metadata": {},
   "source": [
    "### Lists"
   ]
  },
  {
   "cell_type": "code",
   "execution_count": 15,
   "id": "113c2362",
   "metadata": {
    "ExecuteTime": {
     "end_time": "2023-05-13T18:18:37.318691Z",
     "start_time": "2023-05-13T18:18:37.293452Z"
    }
   },
   "outputs": [
    {
     "data": {
      "text/plain": [
       "['A', 'B', 'C']"
      ]
     },
     "execution_count": 15,
     "metadata": {},
     "output_type": "execute_result"
    }
   ],
   "source": [
    "my_list = ['A','B','C','D','E','F','G']\n",
    "my_list[:3]"
   ]
  },
  {
   "cell_type": "markdown",
   "id": "45db9d28",
   "metadata": {},
   "source": [
    "### Tuple"
   ]
  },
  {
   "cell_type": "code",
   "execution_count": 16,
   "id": "fce34187",
   "metadata": {
    "ExecuteTime": {
     "end_time": "2023-05-13T18:18:37.359590Z",
     "start_time": "2023-05-13T18:18:37.331615Z"
    }
   },
   "outputs": [
    {
     "data": {
      "text/plain": [
       "(4, 5, 6, 7)"
      ]
     },
     "execution_count": 16,
     "metadata": {},
     "output_type": "execute_result"
    }
   ],
   "source": [
    "my_tuple = (1,2,3,4,5,6,7)\n",
    "my_tuple[3:]"
   ]
  },
  {
   "cell_type": "markdown",
   "id": "0cbb53d5",
   "metadata": {},
   "source": [
    "### Dictionaries"
   ]
  },
  {
   "cell_type": "code",
   "execution_count": 17,
   "id": "031caa1b",
   "metadata": {
    "ExecuteTime": {
     "end_time": "2023-05-13T18:18:37.501721Z",
     "start_time": "2023-05-13T18:18:37.489527Z"
    }
   },
   "outputs": [
    {
     "data": {
      "text/plain": [
       "{'Capital': 'Washington DC', 'Population': 332000000}"
      ]
     },
     "execution_count": 17,
     "metadata": {},
     "output_type": "execute_result"
    }
   ],
   "source": [
    "my_dict = {\n",
    "    'US':{'Capital':'Washington DC', 'Population': 332_000_000},\n",
    "    'UK':{'Capital':'London', 'Population': 67_000_000},\n",
    "    'Italy':{'Capital':'Rome', 'Population': 59_000_000},\n",
    "    'Japan':{'Capital':'Tokyo', 'Population': 126_000_000},\n",
    "    'Spain':{'Capital':'Madrid', 'Population': 47_000_000},\n",
    "}\n",
    "my_dict['US']"
   ]
  },
  {
   "cell_type": "code",
   "execution_count": 18,
   "id": "0aa08a2d",
   "metadata": {
    "ExecuteTime": {
     "end_time": "2023-05-13T18:18:37.534256Z",
     "start_time": "2023-05-13T18:18:37.507768Z"
    }
   },
   "outputs": [
    {
     "data": {
      "text/plain": [
       "'Washington DC'"
      ]
     },
     "execution_count": 18,
     "metadata": {},
     "output_type": "execute_result"
    }
   ],
   "source": [
    "my_dict['US']['Capital']"
   ]
  },
  {
   "cell_type": "markdown",
   "id": "6ec19011",
   "metadata": {},
   "source": [
    "## Iterators"
   ]
  },
  {
   "cell_type": "markdown",
   "id": "f2277977",
   "metadata": {},
   "source": [
    "### Loops"
   ]
  },
  {
   "cell_type": "markdown",
   "id": "3197fe17",
   "metadata": {},
   "source": [
    "One way to loop is using `for` and `in`."
   ]
  },
  {
   "cell_type": "code",
   "execution_count": 19,
   "id": "98d435a1",
   "metadata": {
    "ExecuteTime": {
     "end_time": "2023-05-13T18:18:37.672430Z",
     "start_time": "2023-05-13T18:18:37.658605Z"
    }
   },
   "outputs": [
    {
     "name": "stdout",
     "output_type": "stream",
     "text": [
      "US\n",
      "dict_keys(['Capital', 'Population'])\n",
      "dict_values(['Washington DC', 332000000])\n",
      "\n",
      "\n",
      "UK\n",
      "dict_keys(['Capital', 'Population'])\n",
      "dict_values(['London', 67000000])\n",
      "\n",
      "\n",
      "Italy\n",
      "dict_keys(['Capital', 'Population'])\n",
      "dict_values(['Rome', 59000000])\n",
      "\n",
      "\n",
      "Japan\n",
      "dict_keys(['Capital', 'Population'])\n",
      "dict_values(['Tokyo', 126000000])\n",
      "\n",
      "\n",
      "Spain\n",
      "dict_keys(['Capital', 'Population'])\n",
      "dict_values(['Madrid', 47000000])\n",
      "\n",
      "\n"
     ]
    }
   ],
   "source": [
    "for key in my_dict:\n",
    "    print(key)\n",
    "    print(my_dict[key].keys())\n",
    "    print(my_dict[key].values())\n",
    "    print('\\n')"
   ]
  },
  {
   "cell_type": "markdown",
   "id": "ce304b76",
   "metadata": {},
   "source": [
    "### Comprehensions"
   ]
  },
  {
   "cell_type": "markdown",
   "id": "a8f935b2",
   "metadata": {},
   "source": [
    "One can use `for` and `in` to create a comprehension.\n",
    "\n",
    "Below is an example of a list comprehension assigned to the `my_list_comp`."
   ]
  },
  {
   "cell_type": "code",
   "execution_count": 20,
   "id": "b4f7a5f1",
   "metadata": {
    "ExecuteTime": {
     "end_time": "2023-05-13T18:18:37.742750Z",
     "start_time": "2023-05-13T18:18:37.716668Z"
    }
   },
   "outputs": [
    {
     "data": {
      "text/plain": [
       "['number 1',\n",
       " 'number 2',\n",
       " 'number 3',\n",
       " 'number 4',\n",
       " 'number 5',\n",
       " 'number 6',\n",
       " 'number 7']"
      ]
     },
     "execution_count": 20,
     "metadata": {},
     "output_type": "execute_result"
    }
   ],
   "source": [
    "my_list_comp = ['number ' + str(n) for n in my_tuple]\n",
    "my_list_comp"
   ]
  },
  {
   "cell_type": "markdown",
   "id": "462c9253",
   "metadata": {},
   "source": [
    "Dictionary comprehensions are another way to create a dictionary with `for` and `in`.  \n",
    "Note that Python supports `f` strings.  These strings where the user can insert values using `{}`."
   ]
  },
  {
   "cell_type": "code",
   "execution_count": 21,
   "id": "c93e23b8",
   "metadata": {
    "ExecuteTime": {
     "end_time": "2023-05-13T18:18:37.793760Z",
     "start_time": "2023-05-13T18:18:37.773155Z"
    }
   },
   "outputs": [
    {
     "data": {
      "text/plain": [
       "{'letter A index': 0,\n",
       " 'letter B index': 1,\n",
       " 'letter C index': 2,\n",
       " 'letter D index': 3,\n",
       " 'letter E index': 4,\n",
       " 'letter F index': 5,\n",
       " 'letter G index': 6}"
      ]
     },
     "execution_count": 21,
     "metadata": {},
     "output_type": "execute_result"
    }
   ],
   "source": [
    "my_dict_comp = {f'letter {l} index': i for i,l in enumerate(my_list)}\n",
    "my_dict_comp"
   ]
  },
  {
   "cell_type": "markdown",
   "id": "a465a175",
   "metadata": {},
   "source": [
    "## Comparisons\n",
    "\n",
    "\n",
    "Note that '`==`' is used for assertion and '`=`' is used for assignment."
   ]
  },
  {
   "cell_type": "code",
   "execution_count": 22,
   "id": "fac021fc",
   "metadata": {
    "ExecuteTime": {
     "end_time": "2023-05-13T18:18:37.872177Z",
     "start_time": "2023-05-13T18:18:37.850379Z"
    }
   },
   "outputs": [],
   "source": [
    "A = 10\n",
    "B = 5\n",
    "C = B * 2"
   ]
  },
  {
   "cell_type": "code",
   "execution_count": 23,
   "id": "d9bf6b89",
   "metadata": {
    "ExecuteTime": {
     "end_time": "2023-05-13T18:18:37.887342Z",
     "start_time": "2023-05-13T18:18:37.877075Z"
    }
   },
   "outputs": [
    {
     "data": {
      "text/plain": [
       "False"
      ]
     },
     "execution_count": 23,
     "metadata": {},
     "output_type": "execute_result"
    }
   ],
   "source": [
    "A == B"
   ]
  },
  {
   "cell_type": "code",
   "execution_count": 24,
   "id": "2c8697a7",
   "metadata": {
    "ExecuteTime": {
     "end_time": "2023-05-13T18:18:37.903277Z",
     "start_time": "2023-05-13T18:18:37.891497Z"
    }
   },
   "outputs": [
    {
     "data": {
      "text/plain": [
       "True"
      ]
     },
     "execution_count": 24,
     "metadata": {},
     "output_type": "execute_result"
    }
   ],
   "source": [
    "A == C"
   ]
  },
  {
   "cell_type": "code",
   "execution_count": 25,
   "id": "33962b09",
   "metadata": {
    "ExecuteTime": {
     "end_time": "2023-05-13T18:18:37.937277Z",
     "start_time": "2023-05-13T18:18:37.911043Z"
    }
   },
   "outputs": [
    {
     "data": {
      "text/plain": [
       "True"
      ]
     },
     "execution_count": 25,
     "metadata": {},
     "output_type": "execute_result"
    }
   ],
   "source": [
    "A / 2 == B"
   ]
  },
  {
   "cell_type": "markdown",
   "id": "c23d4fb3",
   "metadata": {},
   "source": [
    "Use the operator '`!`' for negating."
   ]
  },
  {
   "cell_type": "code",
   "execution_count": 26,
   "id": "93509d93",
   "metadata": {
    "ExecuteTime": {
     "end_time": "2023-05-13T18:18:37.952758Z",
     "start_time": "2023-05-13T18:18:37.942688Z"
    }
   },
   "outputs": [
    {
     "data": {
      "text/plain": [
       "True"
      ]
     },
     "execution_count": 26,
     "metadata": {},
     "output_type": "execute_result"
    }
   ],
   "source": [
    "A != B"
   ]
  },
  {
   "cell_type": "code",
   "execution_count": 27,
   "id": "97fca663",
   "metadata": {
    "ExecuteTime": {
     "end_time": "2023-05-13T18:18:37.967884Z",
     "start_time": "2023-05-13T18:18:37.957835Z"
    }
   },
   "outputs": [
    {
     "data": {
      "text/plain": [
       "True"
      ]
     },
     "execution_count": 27,
     "metadata": {},
     "output_type": "execute_result"
    }
   ],
   "source": [
    "A > B"
   ]
  },
  {
   "cell_type": "markdown",
   "id": "7f3d2d41",
   "metadata": {},
   "source": [
    "## Branching"
   ]
  },
  {
   "cell_type": "markdown",
   "id": "ebc03cd7",
   "metadata": {},
   "source": [
    "One can use `if`, `elif`, and `else` to branch.  "
   ]
  },
  {
   "cell_type": "code",
   "execution_count": 28,
   "id": "234d1d4a",
   "metadata": {
    "ExecuteTime": {
     "end_time": "2023-05-13T18:18:38.031291Z",
     "start_time": "2023-05-13T18:18:38.011976Z"
    }
   },
   "outputs": [
    {
     "name": "stdout",
     "output_type": "stream",
     "text": [
      "for US\n",
      "The US capital is Washington DC\n",
      "\n",
      "\n",
      "for UK\n",
      "The Japan population is 67000000\n",
      "\n",
      "\n",
      "for Italy\n",
      "Italy's population is 59.0 and capital is Rome\n",
      "\n",
      "\n",
      "for Japan\n",
      "Japan's population is 126.0 and capital is Tokyo\n",
      "\n",
      "\n",
      "for Spain\n",
      "Spain's population is 47.0 and capital is Madrid\n",
      "\n",
      "\n"
     ]
    }
   ],
   "source": [
    "for key in my_dict:\n",
    "    print(f'for {key}')\n",
    "    \n",
    "    if key == 'US':\n",
    "        print('The US capital is ' + my_dict[key]['Capital'])\n",
    "        \n",
    "    elif key == 'UK':\n",
    "        print('The Japan population is ' + str(my_dict[key]['Population']))\n",
    "        \n",
    "    else:\n",
    "        print(f\"{key}'s population is \" + str(my_dict[key]['Population']/1e6) + ' and capital is ' + my_dict[key]['Capital'])\n",
    "    \n",
    "    print('\\n') "
   ]
  },
  {
   "cell_type": "markdown",
   "id": "729f03a1",
   "metadata": {},
   "source": [
    "## Functions"
   ]
  },
  {
   "cell_type": "markdown",
   "id": "6db91010",
   "metadata": {},
   "source": [
    "Python uses the `def` operator to define functions.  To return an object, one uses the `return` operator.\n",
    "\n",
    "Just like a math function e.g. $f(x,y) = 2x  + y^{2}$"
   ]
  },
  {
   "cell_type": "code",
   "execution_count": 29,
   "id": "44d6b8dd",
   "metadata": {
    "ExecuteTime": {
     "end_time": "2023-05-13T18:18:38.093839Z",
     "start_time": "2023-05-13T18:18:38.080882Z"
    }
   },
   "outputs": [
    {
     "name": "stdout",
     "output_type": "stream",
     "text": [
      "For numbers from  -15 to 15 we have the following even numbers\n"
     ]
    },
    {
     "data": {
      "text/plain": [
       "[-14, -12, -10, -8, -6, -4, -2, 0, 2, 4, 6, 8, 10, 12, 14]"
      ]
     },
     "execution_count": 29,
     "metadata": {},
     "output_type": "execute_result"
    }
   ],
   "source": [
    "def even_numbers(from_number, to_number):\n",
    "    print('For numbers from ',from_number,'to',to_number,'we have the following even numbers')\n",
    "    return [n for n in range(from_number, to_number) if n % 2 == 0]\n",
    "\n",
    "even_numbers(-15, 15)"
   ]
  },
  {
   "cell_type": "markdown",
   "id": "8bf35ee7",
   "metadata": {},
   "source": [
    "We can call functions from other functions"
   ]
  },
  {
   "cell_type": "code",
   "execution_count": 30,
   "id": "84906b00",
   "metadata": {
    "ExecuteTime": {
     "end_time": "2023-05-13T18:18:38.141055Z",
     "start_time": "2023-05-13T18:18:38.127052Z"
    }
   },
   "outputs": [
    {
     "name": "stdout",
     "output_type": "stream",
     "text": [
      "For numbers from  -21 to 7 we have the following even numbers\n",
      "[-20, -18, -16, -14, -12, -10, -8, -6, -4, -2, 0, 2, 4, 6] \n",
      "\n",
      "The square of the numbers list [-20, -18, -16, -14, -12, -10, -8, -6, -4, -2, 0, 2, 4, 6] is\n"
     ]
    },
    {
     "data": {
      "text/plain": [
       "[400, 324, 256, 196, 144, 100, 64, 36, 16, 4, 0, 4, 16, 36]"
      ]
     },
     "execution_count": 30,
     "metadata": {},
     "output_type": "execute_result"
    }
   ],
   "source": [
    "def square_number(my_numbers_list):\n",
    "    print(f'The square of the numbers list',my_numbers_list,'is')\n",
    "    return [i**2 for i in my_numbers_list]\n",
    "\n",
    "my_evens = even_numbers(-21, 7)\n",
    "print(my_evens,'\\n')\n",
    "\n",
    "square_number(my_evens)"
   ]
  },
  {
   "cell_type": "markdown",
   "id": "824456f2",
   "metadata": {},
   "source": [
    "A function does not have to return an object.  It can also perform a task."
   ]
  },
  {
   "cell_type": "code",
   "execution_count": 31,
   "id": "6a98d114",
   "metadata": {
    "ExecuteTime": {
     "end_time": "2023-05-13T18:18:38.173058Z",
     "start_time": "2023-05-13T18:18:38.158461Z"
    }
   },
   "outputs": [
    {
     "name": "stdout",
     "output_type": "stream",
     "text": [
      "2\n",
      "4\n",
      "6\n"
     ]
    }
   ],
   "source": [
    "def positive_numbers(in_list):\n",
    "    for i in in_list:\n",
    "        if i>0: \n",
    "            print(i)\n",
    "        else: pass\n",
    "            \n",
    "positive_numbers(my_evens)"
   ]
  },
  {
   "cell_type": "markdown",
   "id": "d64a2abd",
   "metadata": {},
   "source": [
    "Python supports anonymous functions aka Lambda functions.  These are simple one-line functions. "
   ]
  },
  {
   "cell_type": "code",
   "execution_count": 32,
   "id": "ca89dae3",
   "metadata": {
    "ExecuteTime": {
     "end_time": "2023-05-13T18:18:38.207196Z",
     "start_time": "2023-05-13T18:18:38.195786Z"
    }
   },
   "outputs": [
    {
     "data": {
      "text/plain": [
       "9.0"
      ]
     },
     "execution_count": 32,
     "metadata": {},
     "output_type": "execute_result"
    }
   ],
   "source": [
    "my_square_root = lambda x: x ** 0.5\n",
    "\n",
    "my_square_root(81)"
   ]
  },
  {
   "cell_type": "markdown",
   "id": "06845ab4",
   "metadata": {},
   "source": [
    "## Importing Libraries"
   ]
  },
  {
   "cell_type": "markdown",
   "id": "f9e1ad1b",
   "metadata": {},
   "source": [
    "Library is a set of functionality that others have writen for others to use.\n",
    "\n",
    "To include a library use the `import` operator."
   ]
  },
  {
   "cell_type": "code",
   "execution_count": 33,
   "id": "74013d4b",
   "metadata": {
    "ExecuteTime": {
     "end_time": "2023-05-13T18:18:38.310125Z",
     "start_time": "2023-05-13T18:18:38.250835Z"
    }
   },
   "outputs": [
    {
     "data": {
      "text/plain": [
       "'4.65.0'"
      ]
     },
     "execution_count": 33,
     "metadata": {},
     "output_type": "execute_result"
    }
   ],
   "source": [
    "import tqdm\n",
    "tqdm.__version__"
   ]
  },
  {
   "cell_type": "markdown",
   "id": "09faef7a",
   "metadata": {},
   "source": [
    "One can give a package an alias.  Below `numpy` is given the `np` alias."
   ]
  },
  {
   "cell_type": "code",
   "execution_count": 34,
   "id": "02b17130",
   "metadata": {
    "ExecuteTime": {
     "end_time": "2023-05-13T18:18:38.638296Z",
     "start_time": "2023-05-13T18:18:38.314249Z"
    },
    "scrolled": true
   },
   "outputs": [
    {
     "data": {
      "text/plain": [
       "'1.23.5'"
      ]
     },
     "execution_count": 34,
     "metadata": {},
     "output_type": "execute_result"
    }
   ],
   "source": [
    "# BEST PRACTICE IS WITH AN ALIAS\n",
    "import numpy as np\n",
    "np.__version__"
   ]
  },
  {
   "cell_type": "markdown",
   "id": "6f0dde82",
   "metadata": {},
   "source": [
    "One can import a single function from package.  Below we import the `sample` function from `numpy.random`.  \n",
    "In Python the `dir()` function will list all the components of objects (*methods*, *attributes*, *variables*, *etc*)."
   ]
  },
  {
   "cell_type": "code",
   "execution_count": 35,
   "id": "2805c507",
   "metadata": {
    "ExecuteTime": {
     "end_time": "2023-05-13T18:18:38.668990Z",
     "start_time": "2023-05-13T18:18:38.644460Z"
    }
   },
   "outputs": [
    {
     "data": {
      "text/plain": [
       "['__call__',\n",
       " '__class__',\n",
       " '__delattr__',\n",
       " '__dir__',\n",
       " '__doc__',\n",
       " '__eq__',\n",
       " '__format__',\n",
       " '__ge__',\n",
       " '__getattribute__',\n",
       " '__gt__',\n",
       " '__hash__',\n",
       " '__init__',\n",
       " '__init_subclass__',\n",
       " '__le__',\n",
       " '__lt__',\n",
       " '__module__',\n",
       " '__name__',\n",
       " '__ne__',\n",
       " '__new__',\n",
       " '__qualname__',\n",
       " '__reduce__',\n",
       " '__reduce_ex__',\n",
       " '__repr__',\n",
       " '__self__',\n",
       " '__setattr__',\n",
       " '__sizeof__',\n",
       " '__str__',\n",
       " '__subclasshook__',\n",
       " '__text_signature__']"
      ]
     },
     "execution_count": 35,
     "metadata": {},
     "output_type": "execute_result"
    }
   ],
   "source": [
    "from numpy.random import sample\n",
    "dir(sample)"
   ]
  }
 ],
 "metadata": {
  "hide_input": false,
  "kernelspec": {
   "display_name": "Python 3 (ipykernel)",
   "language": "python",
   "name": "python3"
  },
  "language_info": {
   "codemirror_mode": {
    "name": "ipython",
    "version": 3
   },
   "file_extension": ".py",
   "mimetype": "text/x-python",
   "name": "python",
   "nbconvert_exporter": "python",
   "pygments_lexer": "ipython3",
   "version": "3.10.11"
  },
  "toc": {
   "base_numbering": 1,
   "nav_menu": {},
   "number_sections": true,
   "sideBar": true,
   "skip_h1_title": true,
   "title_cell": "Table of Contents",
   "title_sidebar": "Contents",
   "toc_cell": false,
   "toc_position": {
    "height": "calc(100% - 180px)",
    "left": "10px",
    "top": "150px",
    "width": "426.667px"
   },
   "toc_section_display": true,
   "toc_window_display": true
  },
  "varInspector": {
   "cols": {
    "lenName": 16,
    "lenType": 16,
    "lenVar": 40
   },
   "kernels_config": {
    "python": {
     "delete_cmd_postfix": "",
     "delete_cmd_prefix": "del ",
     "library": "var_list.py",
     "varRefreshCmd": "print(var_dic_list())"
    },
    "r": {
     "delete_cmd_postfix": ") ",
     "delete_cmd_prefix": "rm(",
     "library": "var_list.r",
     "varRefreshCmd": "cat(var_dic_list()) "
    }
   },
   "types_to_exclude": [
    "module",
    "function",
    "builtin_function_or_method",
    "instance",
    "_Feature"
   ],
   "window_display": false
  }
 },
 "nbformat": 4,
 "nbformat_minor": 5
}
