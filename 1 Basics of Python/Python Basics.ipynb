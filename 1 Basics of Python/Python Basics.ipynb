{
 "cells": [
  {
   "cell_type": "markdown",
   "id": "a5d91890",
   "metadata": {
    "toc": true
   },
   "source": [
    "<h1>Table of Contents<span class=\"tocSkip\"></span></h1>\n",
    "<div class=\"toc\"><ul class=\"toc-item\"><li><span><a href=\"#Hello-Python\" data-toc-modified-id=\"Hello-Python-1\"><span class=\"toc-item-num\">1&nbsp;&nbsp;</span>Hello Python</a></span></li><li><span><a href=\"#Operators\" data-toc-modified-id=\"Operators-2\"><span class=\"toc-item-num\">2&nbsp;&nbsp;</span>Operators</a></span></li><li><span><a href=\"#Data-Structures\" data-toc-modified-id=\"Data-Structures-3\"><span class=\"toc-item-num\">3&nbsp;&nbsp;</span>Data Structures</a></span><ul class=\"toc-item\"><li><span><a href=\"#Lists\" data-toc-modified-id=\"Lists-3.1\"><span class=\"toc-item-num\">3.1&nbsp;&nbsp;</span>Lists</a></span></li><li><span><a href=\"#Tuple\" data-toc-modified-id=\"Tuple-3.2\"><span class=\"toc-item-num\">3.2&nbsp;&nbsp;</span>Tuple</a></span></li><li><span><a href=\"#Dictionaries\" data-toc-modified-id=\"Dictionaries-3.3\"><span class=\"toc-item-num\">3.3&nbsp;&nbsp;</span>Dictionaries</a></span></li></ul></li><li><span><a href=\"#Iterators\" data-toc-modified-id=\"Iterators-4\"><span class=\"toc-item-num\">4&nbsp;&nbsp;</span>Iterators</a></span><ul class=\"toc-item\"><li><span><a href=\"#Loops\" data-toc-modified-id=\"Loops-4.1\"><span class=\"toc-item-num\">4.1&nbsp;&nbsp;</span>Loops</a></span></li><li><span><a href=\"#Comprehensions\" data-toc-modified-id=\"Comprehensions-4.2\"><span class=\"toc-item-num\">4.2&nbsp;&nbsp;</span>Comprehensions</a></span></li></ul></li><li><span><a href=\"#Branching\" data-toc-modified-id=\"Branching-5\"><span class=\"toc-item-num\">5&nbsp;&nbsp;</span>Branching</a></span><ul class=\"toc-item\"><li><span><a href=\"#Functions\" data-toc-modified-id=\"Functions-5.1\"><span class=\"toc-item-num\">5.1&nbsp;&nbsp;</span>Functions</a></span></li></ul></li><li><span><a href=\"#Importing-Libraries\" data-toc-modified-id=\"Importing-Libraries-6\"><span class=\"toc-item-num\">6&nbsp;&nbsp;</span>Importing Libraries</a></span></li></ul></div>"
   ]
  },
  {
   "cell_type": "markdown",
   "id": "cc3596f9",
   "metadata": {},
   "source": [
    "## Hello Python\n"
   ]
  },
  {
   "cell_type": "code",
   "execution_count": 1,
   "id": "2cc91d0d",
   "metadata": {
    "ExecuteTime": {
     "end_time": "2023-05-11T13:01:27.241231Z",
     "start_time": "2023-05-11T13:01:27.229233Z"
    }
   },
   "outputs": [],
   "source": [
    "# this is a comment in python"
   ]
  },
  {
   "cell_type": "code",
   "execution_count": 29,
   "id": "5c535171",
   "metadata": {
    "ExecuteTime": {
     "end_time": "2023-05-11T16:00:52.755409Z",
     "start_time": "2023-05-11T16:00:52.737715Z"
    }
   },
   "outputs": [
    {
     "name": "stdout",
     "output_type": "stream",
     "text": [
      "Hello Python\n"
     ]
    }
   ],
   "source": [
    "print(\"Hello Python\")"
   ]
  },
  {
   "cell_type": "markdown",
   "id": "0d200990",
   "metadata": {},
   "source": [
    "## Operators"
   ]
  },
  {
   "cell_type": "code",
   "execution_count": 3,
   "id": "559a662b",
   "metadata": {
    "ExecuteTime": {
     "end_time": "2023-05-11T13:01:27.271483Z",
     "start_time": "2023-05-11T13:01:27.259259Z"
    }
   },
   "outputs": [
    {
     "data": {
      "text/plain": [
       "10"
      ]
     },
     "execution_count": 3,
     "metadata": {},
     "output_type": "execute_result"
    }
   ],
   "source": [
    "7 + 3"
   ]
  },
  {
   "cell_type": "code",
   "execution_count": 4,
   "id": "4e1fe554",
   "metadata": {
    "ExecuteTime": {
     "end_time": "2023-05-11T13:01:27.287354Z",
     "start_time": "2023-05-11T13:01:27.276557Z"
    }
   },
   "outputs": [
    {
     "data": {
      "text/plain": [
       "4"
      ]
     },
     "execution_count": 4,
     "metadata": {},
     "output_type": "execute_result"
    }
   ],
   "source": [
    "7 - 3"
   ]
  },
  {
   "cell_type": "code",
   "execution_count": 5,
   "id": "8e6ee7fb",
   "metadata": {
    "ExecuteTime": {
     "end_time": "2023-05-11T13:01:27.303259Z",
     "start_time": "2023-05-11T13:01:27.293670Z"
    }
   },
   "outputs": [
    {
     "data": {
      "text/plain": [
       "21"
      ]
     },
     "execution_count": 5,
     "metadata": {},
     "output_type": "execute_result"
    }
   ],
   "source": [
    "7 * 3"
   ]
  },
  {
   "cell_type": "code",
   "execution_count": 6,
   "id": "7bcca114",
   "metadata": {
    "ExecuteTime": {
     "end_time": "2023-05-11T13:01:27.318347Z",
     "start_time": "2023-05-11T13:01:27.306263Z"
    }
   },
   "outputs": [
    {
     "data": {
      "text/plain": [
       "2.3333333333333335"
      ]
     },
     "execution_count": 6,
     "metadata": {},
     "output_type": "execute_result"
    }
   ],
   "source": [
    "7 / 3"
   ]
  },
  {
   "cell_type": "code",
   "execution_count": 7,
   "id": "fea1cfc3",
   "metadata": {
    "ExecuteTime": {
     "end_time": "2023-05-11T13:01:27.348433Z",
     "start_time": "2023-05-11T13:01:27.325290Z"
    }
   },
   "outputs": [
    {
     "data": {
      "text/plain": [
       "2"
      ]
     },
     "execution_count": 7,
     "metadata": {},
     "output_type": "execute_result"
    }
   ],
   "source": [
    "7 // 3 # will return the integer part"
   ]
  },
  {
   "cell_type": "code",
   "execution_count": 8,
   "id": "ceebd697",
   "metadata": {
    "ExecuteTime": {
     "end_time": "2023-05-11T13:01:27.363545Z",
     "start_time": "2023-05-11T13:01:27.351951Z"
    }
   },
   "outputs": [
    {
     "data": {
      "text/plain": [
       "1"
      ]
     },
     "execution_count": 8,
     "metadata": {},
     "output_type": "execute_result"
    }
   ],
   "source": [
    "7 % 3"
   ]
  },
  {
   "cell_type": "code",
   "execution_count": 9,
   "id": "74b4c8b9",
   "metadata": {
    "ExecuteTime": {
     "end_time": "2023-05-11T13:01:27.378428Z",
     "start_time": "2023-05-11T13:01:27.366854Z"
    }
   },
   "outputs": [
    {
     "data": {
      "text/plain": [
       "343"
      ]
     },
     "execution_count": 9,
     "metadata": {},
     "output_type": "execute_result"
    }
   ],
   "source": [
    "7 ** 3"
   ]
  },
  {
   "cell_type": "markdown",
   "id": "3945b54b",
   "metadata": {},
   "source": [
    "## Data Structures"
   ]
  },
  {
   "cell_type": "markdown",
   "id": "f74351e8",
   "metadata": {},
   "source": []
  },
  {
   "cell_type": "markdown",
   "id": "f59aa841",
   "metadata": {},
   "source": [
    "### Lists"
   ]
  },
  {
   "cell_type": "code",
   "execution_count": 10,
   "id": "113c2362",
   "metadata": {
    "ExecuteTime": {
     "end_time": "2023-05-11T13:01:27.393798Z",
     "start_time": "2023-05-11T13:01:27.381439Z"
    }
   },
   "outputs": [
    {
     "data": {
      "text/plain": [
       "['A', 'B', 'C']"
      ]
     },
     "execution_count": 10,
     "metadata": {},
     "output_type": "execute_result"
    }
   ],
   "source": [
    "my_list = ['A','B','C','D','E','F','G']\n",
    "my_list[:3]"
   ]
  },
  {
   "cell_type": "markdown",
   "id": "45db9d28",
   "metadata": {},
   "source": [
    "### Tuple"
   ]
  },
  {
   "cell_type": "code",
   "execution_count": 11,
   "id": "fce34187",
   "metadata": {
    "ExecuteTime": {
     "end_time": "2023-05-11T13:01:27.424428Z",
     "start_time": "2023-05-11T13:01:27.401459Z"
    }
   },
   "outputs": [
    {
     "data": {
      "text/plain": [
       "(4, 5, 6, 7)"
      ]
     },
     "execution_count": 11,
     "metadata": {},
     "output_type": "execute_result"
    }
   ],
   "source": [
    "my_tuple = (1,2,3,4,5,6,7)\n",
    "my_tuple[3:]"
   ]
  },
  {
   "cell_type": "markdown",
   "id": "0cbb53d5",
   "metadata": {},
   "source": [
    "### Dictionaries"
   ]
  },
  {
   "cell_type": "code",
   "execution_count": 12,
   "id": "031caa1b",
   "metadata": {
    "ExecuteTime": {
     "end_time": "2023-05-11T13:01:27.439842Z",
     "start_time": "2023-05-11T13:01:27.428429Z"
    }
   },
   "outputs": [
    {
     "data": {
      "text/plain": [
       "{'Capital': 'Washington DC', 'Population': 332000000}"
      ]
     },
     "execution_count": 12,
     "metadata": {},
     "output_type": "execute_result"
    }
   ],
   "source": [
    "my_dict = {\n",
    "    'US':{'Capital':'Washington DC', 'Population': 332_000_000},\n",
    "    'UK':{'Capital':'London', 'Population': 67_000_000},\n",
    "    'Italy':{'Capital':'Rome', 'Population': 59_000_000},\n",
    "    'Japan':{'Capital':'Tokyo', 'Population': 126_000_000},\n",
    "    'Spain':{'Capital':'Madrid', 'Population': 47_000_000},\n",
    "}\n",
    "my_dict['US']"
   ]
  },
  {
   "cell_type": "code",
   "execution_count": 13,
   "id": "0aa08a2d",
   "metadata": {
    "ExecuteTime": {
     "end_time": "2023-05-11T13:01:27.470836Z",
     "start_time": "2023-05-11T13:01:27.447640Z"
    }
   },
   "outputs": [
    {
     "data": {
      "text/plain": [
       "'Washington DC'"
      ]
     },
     "execution_count": 13,
     "metadata": {},
     "output_type": "execute_result"
    }
   ],
   "source": [
    "my_dict['US']['Capital']"
   ]
  },
  {
   "cell_type": "markdown",
   "id": "6ec19011",
   "metadata": {},
   "source": [
    "## Iterators"
   ]
  },
  {
   "cell_type": "markdown",
   "id": "f2277977",
   "metadata": {},
   "source": [
    "### Loops"
   ]
  },
  {
   "cell_type": "markdown",
   "id": "3197fe17",
   "metadata": {},
   "source": [
    "One way to loop is using `for` and `in`."
   ]
  },
  {
   "cell_type": "code",
   "execution_count": 14,
   "id": "98d435a1",
   "metadata": {
    "ExecuteTime": {
     "end_time": "2023-05-11T13:01:27.486187Z",
     "start_time": "2023-05-11T13:01:27.478188Z"
    }
   },
   "outputs": [
    {
     "name": "stdout",
     "output_type": "stream",
     "text": [
      "US\n",
      "dict_keys(['Capital', 'Population'])\n",
      "dict_values(['Washington DC', 332000000])\n",
      "\n",
      "\n",
      "UK\n",
      "dict_keys(['Capital', 'Population'])\n",
      "dict_values(['London', 67000000])\n",
      "\n",
      "\n",
      "Italy\n",
      "dict_keys(['Capital', 'Population'])\n",
      "dict_values(['Rome', 59000000])\n",
      "\n",
      "\n",
      "Japan\n",
      "dict_keys(['Capital', 'Population'])\n",
      "dict_values(['Tokyo', 126000000])\n",
      "\n",
      "\n",
      "Spain\n",
      "dict_keys(['Capital', 'Population'])\n",
      "dict_values(['Madrid', 47000000])\n",
      "\n",
      "\n"
     ]
    }
   ],
   "source": [
    "for key in my_dict:\n",
    "    print(key)\n",
    "    print(my_dict[key].keys())\n",
    "    print(my_dict[key].values())\n",
    "    print('\\n')"
   ]
  },
  {
   "cell_type": "markdown",
   "id": "ce304b76",
   "metadata": {},
   "source": [
    "### Comprehensions"
   ]
  },
  {
   "cell_type": "markdown",
   "id": "a8f935b2",
   "metadata": {},
   "source": [
    "One can use `for` and `in` to create a comprehension.\n",
    "\n",
    "Below is an example of a list comprehension assigned to the `my_list_comp`."
   ]
  },
  {
   "cell_type": "code",
   "execution_count": 15,
   "id": "b4f7a5f1",
   "metadata": {
    "ExecuteTime": {
     "end_time": "2023-05-11T13:01:27.516416Z",
     "start_time": "2023-05-11T13:01:27.493258Z"
    }
   },
   "outputs": [
    {
     "data": {
      "text/plain": [
       "['number 1',\n",
       " 'number 2',\n",
       " 'number 3',\n",
       " 'number 4',\n",
       " 'number 5',\n",
       " 'number 6',\n",
       " 'number 7']"
      ]
     },
     "execution_count": 15,
     "metadata": {},
     "output_type": "execute_result"
    }
   ],
   "source": [
    "my_list_comp = ['number ' + str(n) for n in my_tuple]\n",
    "my_list_comp"
   ]
  },
  {
   "cell_type": "markdown",
   "id": "462c9253",
   "metadata": {},
   "source": [
    "Dictionary comprehensions are another way to create a dictionary with `for` and `in`."
   ]
  },
  {
   "cell_type": "code",
   "execution_count": 16,
   "id": "c93e23b8",
   "metadata": {
    "ExecuteTime": {
     "end_time": "2023-05-11T13:01:27.546673Z",
     "start_time": "2023-05-11T13:01:27.519301Z"
    }
   },
   "outputs": [
    {
     "data": {
      "text/plain": [
       "{'letter A index': 0,\n",
       " 'letter B index': 1,\n",
       " 'letter C index': 2,\n",
       " 'letter D index': 3,\n",
       " 'letter E index': 4,\n",
       " 'letter F index': 5,\n",
       " 'letter G index': 6}"
      ]
     },
     "execution_count": 16,
     "metadata": {},
     "output_type": "execute_result"
    }
   ],
   "source": [
    "my_dict_comp = {f'letter {l} index': i for i,l in enumerate(my_list)}\n",
    "my_dict_comp"
   ]
  },
  {
   "cell_type": "markdown",
   "id": "7f3d2d41",
   "metadata": {},
   "source": [
    "## Branching"
   ]
  },
  {
   "cell_type": "markdown",
   "id": "ebc03cd7",
   "metadata": {},
   "source": [
    "One can use `if`, `elif`, and `else` to branch."
   ]
  },
  {
   "cell_type": "code",
   "execution_count": 18,
   "id": "234d1d4a",
   "metadata": {
    "ExecuteTime": {
     "end_time": "2023-05-11T13:01:27.591805Z",
     "start_time": "2023-05-11T13:01:27.579810Z"
    }
   },
   "outputs": [
    {
     "name": "stdout",
     "output_type": "stream",
     "text": [
      "for US\n",
      "The US capital is Washington DC\n",
      "\n",
      "\n",
      "for UK\n",
      "The Japan population is 67000000\n",
      "\n",
      "\n",
      "for Italy\n",
      "Italy's population is 59.0 and capital is Rome\n",
      "\n",
      "\n",
      "for Japan\n",
      "Japan's population is 126.0 and capital is Tokyo\n",
      "\n",
      "\n",
      "for Spain\n",
      "Spain's population is 47.0 and capital is Madrid\n",
      "\n",
      "\n"
     ]
    }
   ],
   "source": [
    "for key in my_dict:\n",
    "    print(f'for {key}')\n",
    "    \n",
    "    if key == 'US':\n",
    "        print('The US capital is ' + my_dict[key]['Capital'])\n",
    "        \n",
    "    elif key == 'UK':\n",
    "        print('The Japan population is ' + str(my_dict[key]['Population']))\n",
    "        \n",
    "    else:\n",
    "        print(f\"{key}'s population is \" + str(my_dict[key]['Population']/1e6) + ' and capital is ' + my_dict[key]['Capital'])\n",
    "    \n",
    "    print('\\n') "
   ]
  },
  {
   "cell_type": "markdown",
   "id": "729f03a1",
   "metadata": {},
   "source": [
    "### Functions"
   ]
  },
  {
   "cell_type": "markdown",
   "id": "6db91010",
   "metadata": {},
   "source": [
    "Python uses the `def` operator to define functions.  To return an object, one uses the `return` operator."
   ]
  },
  {
   "cell_type": "code",
   "execution_count": 26,
   "id": "44d6b8dd",
   "metadata": {
    "ExecuteTime": {
     "end_time": "2023-05-11T14:55:16.750584Z",
     "start_time": "2023-05-11T14:55:16.741072Z"
    }
   },
   "outputs": [
    {
     "name": "stdout",
     "output_type": "stream",
     "text": [
      "even numbers between -10 and 21 [-14, -12, -10, -8, -6, -4, -2, 0, 2, 4, 6, 8, 10, 12, 14]\n"
     ]
    }
   ],
   "source": [
    "def even_numbers(from_number, to_number):\n",
    "    return [n for n in range(from_number, to_number) if n % 2 == 0]\n",
    "\n",
    "my_even_numbers = even_numbers(-15, 15)\n",
    "print('even numbers between -10 and 21', my_even_numbers)"
   ]
  },
  {
   "cell_type": "markdown",
   "id": "824456f2",
   "metadata": {},
   "source": [
    "A function does not have to return an object.  It can also perform a task."
   ]
  },
  {
   "cell_type": "code",
   "execution_count": 28,
   "id": "6a98d114",
   "metadata": {
    "ExecuteTime": {
     "end_time": "2023-05-11T14:56:42.222324Z",
     "start_time": "2023-05-11T14:56:42.204323Z"
    }
   },
   "outputs": [
    {
     "name": "stdout",
     "output_type": "stream",
     "text": [
      "2\n",
      "4\n",
      "6\n",
      "8\n",
      "10\n",
      "12\n",
      "14\n"
     ]
    }
   ],
   "source": [
    "def positive_numbers(in_list):\n",
    "    for i in in_list:\n",
    "        if i>0: \n",
    "            print(i)\n",
    "        else: pass\n",
    "            \n",
    "positive_numbers(my_even_numbers)"
   ]
  },
  {
   "cell_type": "markdown",
   "id": "d64a2abd",
   "metadata": {},
   "source": [
    "Python supports anonymous functions aka Lambda functions.  These are simple one-line functions. "
   ]
  },
  {
   "cell_type": "code",
   "execution_count": 20,
   "id": "ca89dae3",
   "metadata": {
    "ExecuteTime": {
     "end_time": "2023-05-11T13:01:27.621808Z",
     "start_time": "2023-05-11T13:01:27.612866Z"
    }
   },
   "outputs": [
    {
     "data": {
      "text/plain": [
       "9.0"
      ]
     },
     "execution_count": 20,
     "metadata": {},
     "output_type": "execute_result"
    }
   ],
   "source": [
    "my_square_root = lambda x: x ** 0.5\n",
    "\n",
    "my_square_root(81)"
   ]
  },
  {
   "cell_type": "markdown",
   "id": "06845ab4",
   "metadata": {},
   "source": [
    "## Importing Libraries"
   ]
  },
  {
   "cell_type": "markdown",
   "id": "f9e1ad1b",
   "metadata": {},
   "source": [
    "To include a library use the `import` operator."
   ]
  },
  {
   "cell_type": "code",
   "execution_count": 21,
   "id": "74013d4b",
   "metadata": {
    "ExecuteTime": {
     "end_time": "2023-05-11T13:01:27.697856Z",
     "start_time": "2023-05-11T13:01:27.628052Z"
    }
   },
   "outputs": [
    {
     "data": {
      "text/plain": [
       "'4.65.0'"
      ]
     },
     "execution_count": 21,
     "metadata": {},
     "output_type": "execute_result"
    }
   ],
   "source": [
    "import tqdm\n",
    "tqdm.__version__"
   ]
  },
  {
   "cell_type": "markdown",
   "id": "09faef7a",
   "metadata": {},
   "source": [
    "One can give a package an alias.  Below `numpy` is given the `np` alias."
   ]
  },
  {
   "cell_type": "code",
   "execution_count": 22,
   "id": "02b17130",
   "metadata": {
    "ExecuteTime": {
     "end_time": "2023-05-11T13:01:27.713026Z",
     "start_time": "2023-05-11T13:01:27.701015Z"
    },
    "scrolled": true
   },
   "outputs": [
    {
     "data": {
      "text/plain": [
       "'1.24.3'"
      ]
     },
     "execution_count": 22,
     "metadata": {},
     "output_type": "execute_result"
    }
   ],
   "source": [
    "# BEST PRACTICE IS WITH AN ALIAS\n",
    "import numpy as np\n",
    "np.__version__"
   ]
  },
  {
   "cell_type": "markdown",
   "id": "6f0dde82",
   "metadata": {},
   "source": [
    "One can import a single function from package.  Below we import the `sample` function from `numpy.random`"
   ]
  },
  {
   "cell_type": "code",
   "execution_count": 23,
   "id": "2805c507",
   "metadata": {
    "ExecuteTime": {
     "end_time": "2023-05-11T13:01:27.727949Z",
     "start_time": "2023-05-11T13:01:27.715852Z"
    }
   },
   "outputs": [
    {
     "data": {
      "text/plain": [
       "['__call__',\n",
       " '__class__',\n",
       " '__delattr__',\n",
       " '__dir__',\n",
       " '__doc__',\n",
       " '__eq__',\n",
       " '__format__',\n",
       " '__ge__',\n",
       " '__getattribute__',\n",
       " '__gt__',\n",
       " '__hash__',\n",
       " '__init__',\n",
       " '__init_subclass__',\n",
       " '__le__',\n",
       " '__lt__',\n",
       " '__module__',\n",
       " '__name__',\n",
       " '__ne__',\n",
       " '__new__',\n",
       " '__qualname__',\n",
       " '__reduce__',\n",
       " '__reduce_ex__',\n",
       " '__repr__',\n",
       " '__self__',\n",
       " '__setattr__',\n",
       " '__sizeof__',\n",
       " '__str__',\n",
       " '__subclasshook__',\n",
       " '__text_signature__']"
      ]
     },
     "execution_count": 23,
     "metadata": {},
     "output_type": "execute_result"
    }
   ],
   "source": [
    "from numpy.random import sample\n",
    "dir(sample)"
   ]
  }
 ],
 "metadata": {
  "hide_input": false,
  "kernelspec": {
   "display_name": "Python 3 (ipykernel)",
   "language": "python",
   "name": "python3"
  },
  "language_info": {
   "codemirror_mode": {
    "name": "ipython",
    "version": 3
   },
   "file_extension": ".py",
   "mimetype": "text/x-python",
   "name": "python",
   "nbconvert_exporter": "python",
   "pygments_lexer": "ipython3",
   "version": "3.10.11"
  },
  "toc": {
   "base_numbering": 1,
   "nav_menu": {},
   "number_sections": true,
   "sideBar": true,
   "skip_h1_title": true,
   "title_cell": "Table of Contents",
   "title_sidebar": "Contents",
   "toc_cell": false,
   "toc_position": {
    "height": "calc(100% - 180px)",
    "left": "10px",
    "top": "150px",
    "width": "426.667px"
   },
   "toc_section_display": true,
   "toc_window_display": true
  },
  "varInspector": {
   "cols": {
    "lenName": 16,
    "lenType": 16,
    "lenVar": 40
   },
   "kernels_config": {
    "python": {
     "delete_cmd_postfix": "",
     "delete_cmd_prefix": "del ",
     "library": "var_list.py",
     "varRefreshCmd": "print(var_dic_list())"
    },
    "r": {
     "delete_cmd_postfix": ") ",
     "delete_cmd_prefix": "rm(",
     "library": "var_list.r",
     "varRefreshCmd": "cat(var_dic_list()) "
    }
   },
   "types_to_exclude": [
    "module",
    "function",
    "builtin_function_or_method",
    "instance",
    "_Feature"
   ],
   "window_display": false
  }
 },
 "nbformat": 4,
 "nbformat_minor": 5
}
